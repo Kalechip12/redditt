{
  "nbformat": 4,
  "nbformat_minor": 0,
  "metadata": {
    "colab": {
      "name": "FirstGraphEver.ipynb",
      "provenance": [],
      "include_colab_link": true
    },
    "kernelspec": {
      "name": "python3",
      "display_name": "Python 3"
    },
    "language_info": {
      "name": "python"
    }
  },
  "cells": [
    {
      "cell_type": "markdown",
      "metadata": {
        "id": "view-in-github",
        "colab_type": "text"
      },
      "source": [
        "<a href=\"https://colab.research.google.com/github/Kalechip12/redditt/blob/main/FirstGraphEver.ipynb\" target=\"_parent\"><img src=\"https://colab.research.google.com/assets/colab-badge.svg\" alt=\"Open In Colab\"/></a>"
      ]
    },
    {
      "cell_type": "code",
      "metadata": {
        "id": "DN4v-JPcmsfq"
      },
      "source": [
        "import pandas as pd\n",
        "import numpy as np\n",
        "from math import cos,sin,pi\n",
        "import matplotlib as mpl\n",
        "import matplotlib.pyplot as plt"
      ],
      "execution_count": 7,
      "outputs": []
    },
    {
      "cell_type": "code",
      "metadata": {
        "id": "MMs1jCw_myu_"
      },
      "source": [
        "pi=3.145"
      ],
      "execution_count": 2,
      "outputs": []
    },
    {
      "cell_type": "code",
      "metadata": {
        "id": "TJSGVkptnmPa"
      },
      "source": [
        "cos=(30)"
      ],
      "execution_count": 5,
      "outputs": []
    },
    {
      "cell_type": "code",
      "metadata": {
        "id": "LwkN4VB5nAKY"
      },
      "source": [
        "x2 = [1, 2, 3, 4]\n",
        "y2 = [4, 8, 12, 16]"
      ],
      "execution_count": 6,
      "outputs": []
    },
    {
      "cell_type": "code",
      "metadata": {
        "colab": {
          "base_uri": "https://localhost:8080/",
          "height": 296
        },
        "id": "OmdVSgvbm3KL",
        "outputId": "833a7940-881d-42d1-f686-6e9671e8ac55"
      },
      "source": [
        "plt.plot(x2,y2,'kx')\n",
        "plt.xlabel('Mass (kg)')\n",
        "plt.ylabel('Length (cm)')"
      ],
      "execution_count": 8,
      "outputs": [
        {
          "output_type": "execute_result",
          "data": {
            "text/plain": [
              "Text(0, 0.5, 'Length (cm)')"
            ]
          },
          "metadata": {},
          "execution_count": 8
        },
        {
          "output_type": "display_data",
          "data": {
            "image/png": "[encoded data removed]",
            "text/plain": [
              "<Figure size 432x288 with 1 Axes>"
            ]
          },
          "metadata": {
            "needs_background": "light"
          }
        }
      ]
    },
    {
      "cell_type": "code",
      "metadata": {
        "id": "kKZTEirjpbsg"
      },
      "source": [
        "data = pd.read_csv('https://raw.githubusercontent.com/Kalechip12/redditt/main/reddit_ct.csv')"
      ],
      "execution_count": 10,
      "outputs": []
    },
    {
      "cell_type": "code",
      "metadata": {
        "colab": {
          "base_uri": "https://localhost:8080/",
          "height": 402
        },
        "id": "B4g0HSFYpuPG",
        "outputId": "792317df-e4e3-44d3-8736-6e688c219d55"
      },
      "source": [
        "data"
      ],
      "execution_count": null,
      "outputs": [
        {
          "output_type": "execute_result",
          "data": {
            "text/html": [
              "<div>\n",
              "<style scoped>\n",
              "    .dataframe tbody tr th:only-of-type {\n",
              "        vertical-align: middle;\n",
              "    }\n",
              "\n",
              "    .dataframe tbody tr th {\n",
              "        vertical-align: top;\n",
              "    }\n",
              "\n",
              "    .dataframe thead th {\n",
              "        text-align: right;\n",
              "    }\n",
              "</style>\n",
              "<table border=\"1\" class=\"dataframe\">\n",
              "  <thead>\n",
              "    <tr style=\"text-align: right;\">\n",
              "      <th></th>\n",
              "      <th>Year</th>\n",
              "      <th>Population</th>\n",
              "      <th>ChangePerc</th>\n",
              "      <th>NetChange</th>\n",
              "      <th>Density</th>\n",
              "      <th>Urban</th>\n",
              "      <th>UrbanPerc</th>\n",
              "    </tr>\n",
              "  </thead>\n",
              "  <tbody>\n",
              "    <tr>\n",
              "      <th>0</th>\n",
              "      <td>2020</td>\n",
              "      <td>7794798739</td>\n",
              "      <td>1.05</td>\n",
              "      <td>81330639</td>\n",
              "      <td>52</td>\n",
              "      <td>4378993944</td>\n",
              "      <td>56</td>\n",
              "    </tr>\n",
              "    <tr>\n",
              "      <th>1</th>\n",
              "      <td>2019</td>\n",
              "      <td>7713468100</td>\n",
              "      <td>1.08</td>\n",
              "      <td>82377060</td>\n",
              "      <td>52</td>\n",
              "      <td>4299438618</td>\n",
              "      <td>56</td>\n",
              "    </tr>\n",
              "    <tr>\n",
              "      <th>2</th>\n",
              "      <td>2018</td>\n",
              "      <td>7631091040</td>\n",
              "      <td>1.10</td>\n",
              "      <td>83232115</td>\n",
              "      <td>51</td>\n",
              "      <td>4219817318</td>\n",
              "      <td>55</td>\n",
              "    </tr>\n",
              "    <tr>\n",
              "      <th>3</th>\n",
              "      <td>2017</td>\n",
              "      <td>7547858925</td>\n",
              "      <td>1.12</td>\n",
              "      <td>83836876</td>\n",
              "      <td>51</td>\n",
              "      <td>4140188594</td>\n",
              "      <td>55</td>\n",
              "    </tr>\n",
              "    <tr>\n",
              "      <th>4</th>\n",
              "      <td>2016</td>\n",
              "      <td>7464022049</td>\n",
              "      <td>1.14</td>\n",
              "      <td>84224910</td>\n",
              "      <td>50</td>\n",
              "      <td>4060652683</td>\n",
              "      <td>54</td>\n",
              "    </tr>\n",
              "    <tr>\n",
              "      <th>...</th>\n",
              "      <td>...</td>\n",
              "      <td>...</td>\n",
              "      <td>...</td>\n",
              "      <td>...</td>\n",
              "      <td>...</td>\n",
              "      <td>...</td>\n",
              "      <td>...</td>\n",
              "    </tr>\n",
              "    <tr>\n",
              "      <th>65</th>\n",
              "      <td>1955</td>\n",
              "      <td>2773019936</td>\n",
              "      <td>1.77</td>\n",
              "      <td>48173195</td>\n",
              "      <td>19</td>\n",
              "      <td>877008842</td>\n",
              "      <td>32</td>\n",
              "    </tr>\n",
              "    <tr>\n",
              "      <th>66</th>\n",
              "      <td>1954</td>\n",
              "      <td>2724846741</td>\n",
              "      <td>1.76</td>\n",
              "      <td>47237781</td>\n",
              "      <td>18</td>\n",
              "      <td>850179106</td>\n",
              "      <td>31</td>\n",
              "    </tr>\n",
              "    <tr>\n",
              "      <th>67</th>\n",
              "      <td>1953</td>\n",
              "      <td>2677608960</td>\n",
              "      <td>1.78</td>\n",
              "      <td>46747398</td>\n",
              "      <td>18</td>\n",
              "      <td>824289989</td>\n",
              "      <td>31</td>\n",
              "    </tr>\n",
              "    <tr>\n",
              "      <th>68</th>\n",
              "      <td>1952</td>\n",
              "      <td>2630861562</td>\n",
              "      <td>1.81</td>\n",
              "      <td>46827301</td>\n",
              "      <td>18</td>\n",
              "      <td>799282533</td>\n",
              "      <td>30</td>\n",
              "    </tr>\n",
              "    <tr>\n",
              "      <th>69</th>\n",
              "      <td>1951</td>\n",
              "      <td>2584034261</td>\n",
              "      <td>1.88</td>\n",
              "      <td>47603112</td>\n",
              "      <td>17</td>\n",
              "      <td>775067697</td>\n",
              "      <td>30</td>\n",
              "    </tr>\n",
              "  </tbody>\n",
              "</table>\n",
              "<p>70 rows × 7 columns</p>\n",
              "</div>"
            ],
            "text/plain": [
              "    Year  Population  ChangePerc  NetChange  Density       Urban  UrbanPerc\n",
              "0   2020  7794798739        1.05   81330639       52  4378993944         56\n",
              "1   2019  7713468100        1.08   82377060       52  4299438618         56\n",
              "2   2018  7631091040        1.10   83232115       51  4219817318         55\n",
              "3   2017  7547858925        1.12   83836876       51  4140188594         55\n",
              "4   2016  7464022049        1.14   84224910       50  4060652683         54\n",
              "..   ...         ...         ...        ...      ...         ...        ...\n",
              "65  1955  2773019936        1.77   48173195       19   877008842         32\n",
              "66  1954  2724846741        1.76   47237781       18   850179106         31\n",
              "67  1953  2677608960        1.78   46747398       18   824289989         31\n",
              "68  1952  2630861562        1.81   46827301       18   799282533         30\n",
              "69  1951  2584034261        1.88   47603112       17   775067697         30\n",
              "\n",
              "[70 rows x 7 columns]"
            ]
          },
          "metadata": {
            "tags": []
          },
          "execution_count": 50
        }
      ]
    },
    {
      "cell_type": "code",
      "metadata": {
        "colab": {
          "base_uri": "https://localhost:8080/"
        },
        "id": "Co11TNOnp16k",
        "outputId": "8249857f-8f97-43b8-b7e3-cfbf5431b1d6"
      },
      "source": [
        "x = data['Year']\n",
        "x"
      ],
      "execution_count": null,
      "outputs": [
        {
          "output_type": "execute_result",
          "data": {
            "text/plain": [
              "0     2020\n",
              "1     2019\n",
              "2     2018\n",
              "3     2017\n",
              "4     2016\n",
              "      ... \n",
              "65    1955\n",
              "66    1954\n",
              "67    1953\n",
              "68    1952\n",
              "69    1951\n",
              "Name: Year, Length: 70, dtype: int64"
            ]
          },
          "metadata": {
            "tags": []
          },
          "execution_count": 53
        }
      ]
    },
    {
      "cell_type": "code",
      "metadata": {
        "colab": {
          "base_uri": "https://localhost:8080/"
        },
        "id": "qd2iIUmYqIaR",
        "outputId": "bfe65b11-2b72-47cf-d2f8-208ef606fc45"
      },
      "source": [
        "y = data['Population']\n",
        "y"
      ],
      "execution_count": null,
      "outputs": [
        {
          "output_type": "execute_result",
          "data": {
            "text/plain": [
              "0     7794798739\n",
              "1     7713468100\n",
              "2     7631091040\n",
              "3     7547858925\n",
              "4     7464022049\n",
              "         ...    \n",
              "65    2773019936\n",
              "66    2724846741\n",
              "67    2677608960\n",
              "68    2630861562\n",
              "69    2584034261\n",
              "Name: Population, Length: 70, dtype: int64"
            ]
          },
          "metadata": {
            "tags": []
          },
          "execution_count": 55
        }
      ]
    },
    {
      "cell_type": "code",
      "metadata": {
        "colab": {
          "base_uri": "https://localhost:8080/",
          "height": 308
        },
        "id": "LpjanX-eqOAQ",
        "outputId": "58746950-e04e-47dc-9c0a-1739c27d1dce"
      },
      "source": [
        "plt.plot(x,y,'kx')\n",
        "plt.xlabel('Year')\n",
        "plt.ylabel('Population')"
      ],
      "execution_count": null,
      "outputs": [
        {
          "output_type": "execute_result",
          "data": {
            "text/plain": [
              "Text(0, 0.5, 'Population')"
            ]
          },
          "metadata": {
            "tags": []
          },
          "execution_count": 57
        },
        {
          "output_type": "display_data",
          "data": {
            "image/png": "[encoded data removed]",
            "text/plain": [
              "<Figure size 432x288 with 1 Axes>"
            ]
          },
          "metadata": {
            "tags": [],
            "needs_background": "light"
          }
        }
      ]
    },
    {
      "cell_type": "code",
      "metadata": {
        "id": "m2pCv_kmUzj4"
      },
      "source": [
        "data = pd.read_csv('https://raw.githubusercontent.com/Kalechip12/redditt/main/reddit_ct.csv')"
      ],
      "execution_count": 11,
      "outputs": []
    },
    {
      "cell_type": "code",
      "metadata": {
        "id": "xSggNjXzU5tu",
        "outputId": "44bdd836-0b76-4a07-dbef-9b11d619c7a3",
        "colab": {
          "base_uri": "https://localhost:8080/",
          "height": 589
        }
      },
      "source": [
        "data"
      ],
      "execution_count": 12,
      "outputs": [
        {
          "output_type": "execute_result",
          "data": {
            "text/html": [
              "<div>\n",
              "<style scoped>\n",
              "    .dataframe tbody tr th:only-of-type {\n",
              "        vertical-align: middle;\n",
              "    }\n",
              "\n",
              "    .dataframe tbody tr th {\n",
              "        vertical-align: top;\n",
              "    }\n",
              "\n",
              "    .dataframe thead th {\n",
              "        text-align: right;\n",
              "    }\n",
              "</style>\n",
              "<table border=\"1\" class=\"dataframe\">\n",
              "  <thead>\n",
              "    <tr style=\"text-align: right;\">\n",
              "      <th></th>\n",
              "      <th>title</th>\n",
              "      <th>score</th>\n",
              "      <th>id</th>\n",
              "      <th>url</th>\n",
              "      <th>comms_num</th>\n",
              "      <th>created</th>\n",
              "      <th>body</th>\n",
              "      <th>timestamp</th>\n",
              "    </tr>\n",
              "  </thead>\n",
              "  <tbody>\n",
              "    <tr>\n",
              "      <th>0</th>\n",
              "      <td>Jimmy Fallon might be in the closet gay, or Bi...</td>\n",
              "      <td>6</td>\n",
              "      <td>f2r2s5</td>\n",
              "      <td>https://www.reddit.com/r/ConspiracyTheory/comm...</td>\n",
              "      <td>15</td>\n",
              "      <td>1.581513e+09</td>\n",
              "      <td>Recently me and some of my friends have been n...</td>\n",
              "      <td>2020-02-12 15:17:50</td>\n",
              "    </tr>\n",
              "    <tr>\n",
              "      <th>1</th>\n",
              "      <td>NBA Players who are Part of the Secret Illuminati</td>\n",
              "      <td>12</td>\n",
              "      <td>f1b44j</td>\n",
              "      <td>https://youtu.be/osrWcunuMbQ</td>\n",
              "      <td>2</td>\n",
              "      <td>1.581266e+09</td>\n",
              "      <td>NaN</td>\n",
              "      <td>2020-02-09 18:41:12</td>\n",
              "    </tr>\n",
              "    <tr>\n",
              "      <th>2</th>\n",
              "      <td>Evidence that Suggests Wuhan Market was Not th...</td>\n",
              "      <td>24</td>\n",
              "      <td>f0tsly</td>\n",
              "      <td>https://www.reddit.com/r/ConspiracyTheory/comm...</td>\n",
              "      <td>15</td>\n",
              "      <td>1.581179e+09</td>\n",
              "      <td>I have marked a rudimentary chart, each new in...</td>\n",
              "      <td>2020-02-08 18:27:15</td>\n",
              "    </tr>\n",
              "    <tr>\n",
              "      <th>3</th>\n",
              "      <td>US Navy Vet - Worked in Afghanistan, Iraq, Sud...</td>\n",
              "      <td>2</td>\n",
              "      <td>f0dddo</td>\n",
              "      <td>https://i.redd.it/hp4x7l90ajf41.jpg</td>\n",
              "      <td>0</td>\n",
              "      <td>1.581095e+09</td>\n",
              "      <td>NaN</td>\n",
              "      <td>2020-02-07 19:05:26</td>\n",
              "    </tr>\n",
              "    <tr>\n",
              "      <th>4</th>\n",
              "      <td>New Details Show How Deeply Iowa Caucus App De...</td>\n",
              "      <td>6</td>\n",
              "      <td>ezzad1</td>\n",
              "      <td>https://theintercept.com/2020/02/04/iowa-caucu...</td>\n",
              "      <td>2</td>\n",
              "      <td>1.581024e+09</td>\n",
              "      <td>NaN</td>\n",
              "      <td>2020-02-06 23:18:15</td>\n",
              "    </tr>\n",
              "    <tr>\n",
              "      <th>...</th>\n",
              "      <td>...</td>\n",
              "      <td>...</td>\n",
              "      <td>...</td>\n",
              "      <td>...</td>\n",
              "      <td>...</td>\n",
              "      <td>...</td>\n",
              "      <td>...</td>\n",
              "      <td>...</td>\n",
              "    </tr>\n",
              "    <tr>\n",
              "      <th>1172</th>\n",
              "      <td>Comment</td>\n",
              "      <td>3</td>\n",
              "      <td>c6nq6do</td>\n",
              "      <td>NaN</td>\n",
              "      <td>0</td>\n",
              "      <td>1.350471e+09</td>\n",
              "      <td>[Yeah, yeah. I know.](http://www.youtube.com/w...</td>\n",
              "      <td>2012-10-17 13:43:29</td>\n",
              "    </tr>\n",
              "    <tr>\n",
              "      <th>1173</th>\n",
              "      <td>Comment</td>\n",
              "      <td>2</td>\n",
              "      <td>c6nq1wx</td>\n",
              "      <td>NaN</td>\n",
              "      <td>0</td>\n",
              "      <td>1.350469e+09</td>\n",
              "      <td>The only thing I found in the filter when I go...</td>\n",
              "      <td>2012-10-17 13:18:51</td>\n",
              "    </tr>\n",
              "    <tr>\n",
              "      <th>1174</th>\n",
              "      <td>Comment</td>\n",
              "      <td>2</td>\n",
              "      <td>c6ar2eu</td>\n",
              "      <td>NaN</td>\n",
              "      <td>0</td>\n",
              "      <td>1.348112e+09</td>\n",
              "      <td>My god you were a mole the whole time !!</td>\n",
              "      <td>2012-09-20 06:36:00</td>\n",
              "    </tr>\n",
              "    <tr>\n",
              "      <th>1175</th>\n",
              "      <td>Comment</td>\n",
              "      <td>1</td>\n",
              "      <td>c5r6v1h</td>\n",
              "      <td>NaN</td>\n",
              "      <td>0</td>\n",
              "      <td>1.344627e+09</td>\n",
              "      <td>While many claim there is a move to a one worl...</td>\n",
              "      <td>2012-08-10 22:25:59</td>\n",
              "    </tr>\n",
              "    <tr>\n",
              "      <th>1176</th>\n",
              "      <td>Comment</td>\n",
              "      <td>2</td>\n",
              "      <td>c5qpa92</td>\n",
              "      <td>NaN</td>\n",
              "      <td>0</td>\n",
              "      <td>1.344545e+09</td>\n",
              "      <td>It's a conspiracy.</td>\n",
              "      <td>2012-08-09 23:47:42</td>\n",
              "    </tr>\n",
              "  </tbody>\n",
              "</table>\n",
              "<p>1177 rows × 8 columns</p>\n",
              "</div>"
            ],
            "text/plain": [
              "                                                  title  ...            timestamp\n",
              "0     Jimmy Fallon might be in the closet gay, or Bi...  ...  2020-02-12 15:17:50\n",
              "1     NBA Players who are Part of the Secret Illuminati  ...  2020-02-09 18:41:12\n",
              "2     Evidence that Suggests Wuhan Market was Not th...  ...  2020-02-08 18:27:15\n",
              "3     US Navy Vet - Worked in Afghanistan, Iraq, Sud...  ...  2020-02-07 19:05:26\n",
              "4     New Details Show How Deeply Iowa Caucus App De...  ...  2020-02-06 23:18:15\n",
              "...                                                 ...  ...                  ...\n",
              "1172                                            Comment  ...  2012-10-17 13:43:29\n",
              "1173                                            Comment  ...  2012-10-17 13:18:51\n",
              "1174                                            Comment  ...  2012-09-20 06:36:00\n",
              "1175                                            Comment  ...  2012-08-10 22:25:59\n",
              "1176                                            Comment  ...  2012-08-09 23:47:42\n",
              "\n",
              "[1177 rows x 8 columns]"
            ]
          },
          "metadata": {},
          "execution_count": 12
        }
      ]
    },
    {
      "cell_type": "code",
      "metadata": {
        "id": "2OaK4s8LWtVt"
      },
      "source": [
        "x= data['title']\n",
        "y= data['score']"
      ],
      "execution_count": 18,
      "outputs": []
    },
    {
      "cell_type": "code",
      "metadata": {
        "id": "7mE9gDaZY5L9",
        "outputId": "bbf3c9f4-7da1-4a1d-89fa-fc75c6f3e9a0",
        "colab": {
          "base_uri": "https://localhost:8080/",
          "height": 528
        }
      },
      "source": [
        "plt.plot(x,y,'kx')\n",
        "plt.xlabel=('title')"
      ],
      "execution_count": 22,
      "outputs": [
        {
          "output_type": "stream",
          "name": "stderr",
          "text": [
            "/usr/local/lib/python3.7/dist-packages/matplotlib/backends/backend_agg.py:214: RuntimeWarning: Glyph 127800 missing from current font.\n",
            "  font.set_text(s, 0.0, flags=flags)\n",
            "/usr/local/lib/python3.7/dist-packages/matplotlib/backends/backend_agg.py:214: RuntimeWarning: Glyph 63743 missing from current font.\n",
            "  font.set_text(s, 0.0, flags=flags)\n",
            "/usr/local/lib/python3.7/dist-packages/matplotlib/backends/backend_agg.py:214: RuntimeWarning: Glyph 129313 missing from current font.\n",
            "  font.set_text(s, 0.0, flags=flags)\n",
            "/usr/local/lib/python3.7/dist-packages/matplotlib/backends/backend_agg.py:214: RuntimeWarning: Glyph 128373 missing from current font.\n",
            "  font.set_text(s, 0.0, flags=flags)\n",
            "/usr/local/lib/python3.7/dist-packages/matplotlib/backends/backend_agg.py:183: RuntimeWarning: Glyph 127800 missing from current font.\n",
            "  font.set_text(s, 0, flags=flags)\n",
            "/usr/local/lib/python3.7/dist-packages/matplotlib/backends/backend_agg.py:183: RuntimeWarning: Glyph 63743 missing from current font.\n",
            "  font.set_text(s, 0, flags=flags)\n",
            "/usr/local/lib/python3.7/dist-packages/matplotlib/backends/backend_agg.py:183: RuntimeWarning: Glyph 129313 missing from current font.\n",
            "  font.set_text(s, 0, flags=flags)\n",
            "/usr/local/lib/python3.7/dist-packages/matplotlib/backends/backend_agg.py:183: RuntimeWarning: Glyph 128373 missing from current font.\n",
            "  font.set_text(s, 0, flags=flags)\n"
          ]
        },
        {
          "output_type": "display_data",
          "data": {
            "image/png": "[encoded data removed]",
            "text/plain": [
              "<Figure size 432x288 with 1 Axes>"
            ]
          },
          "metadata": {
            "needs_background": "light"
          }
        }
      ]
    }
  ]
}